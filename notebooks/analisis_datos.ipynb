{
 "cells": [
  {
   "cell_type": "markdown",
   "id": "234c46ae",
   "metadata": {},
   "source": [
    "# Comienzo el análisis de los datos"
   ]
  },
  {
   "cell_type": "markdown",
   "id": "6c78d517",
   "metadata": {},
   "source": [
    "Cargo las librerías, como voy a graficar además de pandas voy a usar matplotlib y folium (para el mapa)"
   ]
  },
  {
   "cell_type": "code",
   "execution_count": 1,
   "id": "d24ab096",
   "metadata": {},
   "outputs": [
    {
     "name": "stderr",
     "output_type": "stream",
     "text": [
      "Matplotlib is building the font cache; this may take a moment.\n"
     ]
    }
   ],
   "source": [
    "import pandas as pd \n",
    "import matplotlib.pyplot as plt\n",
    "import folium"
   ]
  },
  {
   "cell_type": "markdown",
   "id": "dfe18681",
   "metadata": {},
   "source": [
    "Cargo la base de datos de recorridos y usuarios"
   ]
  },
  {
   "cell_type": "code",
   "execution_count": 2,
   "id": "3c6ea056",
   "metadata": {},
   "outputs": [],
   "source": [
    "recorridos_usuarios_3meses = pd.read_csv(\"../data/processed/recorridos_usuarios_3meses.csv\", sep=',', encoding='utf-8')\n"
   ]
  },
  {
   "cell_type": "code",
   "execution_count": 4,
   "id": "b2806949",
   "metadata": {},
   "outputs": [
    {
     "name": "stdout",
     "output_type": "stream",
     "text": [
      "<class 'pandas.core.frame.DataFrame'>\n",
      "RangeIndex: 285581 entries, 0 to 285580\n",
      "Data columns (total 22 columns):\n",
      " #   Column                      Non-Null Count   Dtype  \n",
      "---  ------                      --------------   -----  \n",
      " 0   id_usuario                  285581 non-null  int64  \n",
      " 1   genero_usuario              285581 non-null  object \n",
      " 2   edad_usuario                285581 non-null  int64  \n",
      " 3   fecha_alta                  285581 non-null  object \n",
      " 4   hora_alta                   285581 non-null  object \n",
      " 5   id_recorrido                285581 non-null  int64  \n",
      " 6   duracion_recorrido          285581 non-null  int64  \n",
      " 7   fecha_origen_recorrido      285581 non-null  object \n",
      " 8   id_estacion_origen          285581 non-null  int64  \n",
      " 9   nombre_estacion_origen      285581 non-null  object \n",
      " 10  direccion_estacion_origen   285581 non-null  object \n",
      " 11  long_estacion_origen        285581 non-null  float64\n",
      " 12  lat_estacion_origen         285581 non-null  float64\n",
      " 13  fecha_destino_recorrido     285581 non-null  object \n",
      " 14  id_estacion_destino         285581 non-null  int64  \n",
      " 15  nombre_estacion_destino     285581 non-null  object \n",
      " 16  direccion_estacion_destino  285581 non-null  object \n",
      " 17  long_estacion_destino       285581 non-null  float64\n",
      " 18  lat_estacion_destino        285581 non-null  float64\n",
      " 19  modelo_bicicleta            285581 non-null  object \n",
      " 20  genero                      285581 non-null  object \n",
      " 21  duracion_viaje_minutos      285581 non-null  float64\n",
      "dtypes: float64(5), int64(6), object(11)\n",
      "memory usage: 47.9+ MB\n"
     ]
    }
   ],
   "source": [
    "recorridos_usuarios_3meses.info()"
   ]
  },
  {
   "cell_type": "markdown",
   "id": "059a66f6",
   "metadata": {},
   "source": [
    "# Preguntas"
   ]
  },
  {
   "cell_type": "markdown",
   "id": "32a9a913",
   "metadata": {},
   "source": [
    "## ¿Cuál fue la cantidad total de viajes realizados por usuarios de entre 25 y 35 años durante los tres meses seleccionados?"
   ]
  },
  {
   "cell_type": "markdown",
   "id": "8b488cda",
   "metadata": {},
   "source": [
    "Para responder voy a crear 2 variables, edad_inicial y edad_final con esos valores, voy a filtrar y voy a contar los viajes"
   ]
  },
  {
   "cell_type": "code",
   "execution_count": 5,
   "id": "e33c8ab3",
   "metadata": {},
   "outputs": [],
   "source": [
    "edad_inicio = 25\n",
    "edad_final = 35\n",
    "\n",
    "recorridos_entre_25y35 = recorridos_usuarios_3meses[((recorridos_usuarios_3meses['edad_usuario']) >= edad_inicio) \n",
    "                                                    & ((recorridos_usuarios_3meses['edad_usuario']) <= edad_final)]"
   ]
  },
  {
   "cell_type": "code",
   "execution_count": 11,
   "id": "7dd58c60",
   "metadata": {},
   "outputs": [
    {
     "name": "stdout",
     "output_type": "stream",
     "text": [
      "La cantidad de recorridos que realizaron las personas entre 25 y 35 años en los meses de julio, agosto y septiembre fue: 80952\n"
     ]
    }
   ],
   "source": [
    "# Cantidad total de viajes\n",
    "total_recorridos_25y35 = recorridos_entre_25y35.shape[0]\n",
    "print(f\"La cantidad de recorridos que realizaron las personas entre 25 y 35 años en los meses de julio, agosto y septiembre fue: {total_recorridos_25y35}\")"
   ]
  },
  {
   "cell_type": "markdown",
   "id": "8a7f9f16",
   "metadata": {},
   "source": [
    "## ¿Cuáles fueron las 5 estaciones de inicio con mayor cantidad de viajes en esos tres meses?"
   ]
  },
  {
   "cell_type": "markdown",
   "id": "a25f199d",
   "metadata": {},
   "source": [
    "Voy a agrupar las estaciones, y voy a tomar las 5 estaciones con mas viajes, las muestro en la tabla porque voy a usar esos datos para hacer los gráficos"
   ]
  },
  {
   "cell_type": "code",
   "execution_count": 13,
   "id": "37ef2668",
   "metadata": {},
   "outputs": [
    {
     "data": {
      "application/vnd.microsoft.datawrangler.viewer.v0+json": {
       "columns": [
        {
         "name": "index",
         "rawType": "int64",
         "type": "integer"
        },
        {
         "name": "id_estacion_origen",
         "rawType": "int64",
         "type": "integer"
        },
        {
         "name": "nombre_estacion_origen",
         "rawType": "object",
         "type": "string"
        },
        {
         "name": "lat_estacion_origen",
         "rawType": "float64",
         "type": "float"
        },
        {
         "name": "long_estacion_origen",
         "rawType": "float64",
         "type": "float"
        },
        {
         "name": "cantidad_viajes",
         "rawType": "int64",
         "type": "integer"
        }
       ],
       "ref": "df9226bd-20d1-4733-94b4-b38880fc8d0f",
       "rows": [
        [
         "334",
         "516",
         "368 - PLAZA DE LA SHOÁ",
         "-34.5709984",
         "-58.423346900000006",
         "4603"
        ],
        [
         "10",
         "14",
         "014 - Pacifico",
         "-34.577424",
         "-58.426387",
         "3769"
        ],
        [
         "3",
         "5",
         "005 - Plaza Italia",
         "-34.5805497",
         "-58.4209542",
         "3736"
        ],
        [
         "97",
         "152",
         "152 - JULIETA LANTERI",
         "-34.6181645",
         "-58.3596311",
         "3639"
        ],
        [
         "333",
         "515",
         "294 - PLAZOLETA RÍO DE LA PLATA",
         "-34.57424606980564",
         "-58.41465533223048",
         "3320"
        ]
       ],
       "shape": {
        "columns": 5,
        "rows": 5
       }
      },
      "text/html": [
       "<div>\n",
       "<style scoped>\n",
       "    .dataframe tbody tr th:only-of-type {\n",
       "        vertical-align: middle;\n",
       "    }\n",
       "\n",
       "    .dataframe tbody tr th {\n",
       "        vertical-align: top;\n",
       "    }\n",
       "\n",
       "    .dataframe thead th {\n",
       "        text-align: right;\n",
       "    }\n",
       "</style>\n",
       "<table border=\"1\" class=\"dataframe\">\n",
       "  <thead>\n",
       "    <tr style=\"text-align: right;\">\n",
       "      <th></th>\n",
       "      <th>id_estacion_origen</th>\n",
       "      <th>nombre_estacion_origen</th>\n",
       "      <th>lat_estacion_origen</th>\n",
       "      <th>long_estacion_origen</th>\n",
       "      <th>cantidad_viajes</th>\n",
       "    </tr>\n",
       "  </thead>\n",
       "  <tbody>\n",
       "    <tr>\n",
       "      <th>334</th>\n",
       "      <td>516</td>\n",
       "      <td>368 - PLAZA DE LA SHOÁ</td>\n",
       "      <td>-34.570998</td>\n",
       "      <td>-58.423347</td>\n",
       "      <td>4603</td>\n",
       "    </tr>\n",
       "    <tr>\n",
       "      <th>10</th>\n",
       "      <td>14</td>\n",
       "      <td>014 - Pacifico</td>\n",
       "      <td>-34.577424</td>\n",
       "      <td>-58.426387</td>\n",
       "      <td>3769</td>\n",
       "    </tr>\n",
       "    <tr>\n",
       "      <th>3</th>\n",
       "      <td>5</td>\n",
       "      <td>005 - Plaza Italia</td>\n",
       "      <td>-34.580550</td>\n",
       "      <td>-58.420954</td>\n",
       "      <td>3736</td>\n",
       "    </tr>\n",
       "    <tr>\n",
       "      <th>97</th>\n",
       "      <td>152</td>\n",
       "      <td>152 - JULIETA LANTERI</td>\n",
       "      <td>-34.618164</td>\n",
       "      <td>-58.359631</td>\n",
       "      <td>3639</td>\n",
       "    </tr>\n",
       "    <tr>\n",
       "      <th>333</th>\n",
       "      <td>515</td>\n",
       "      <td>294 - PLAZOLETA RÍO DE LA PLATA</td>\n",
       "      <td>-34.574246</td>\n",
       "      <td>-58.414655</td>\n",
       "      <td>3320</td>\n",
       "    </tr>\n",
       "  </tbody>\n",
       "</table>\n",
       "</div>"
      ],
      "text/plain": [
       "     id_estacion_origen           nombre_estacion_origen  lat_estacion_origen  \\\n",
       "334                 516           368 - PLAZA DE LA SHOÁ           -34.570998   \n",
       "10                   14                   014 - Pacifico           -34.577424   \n",
       "3                     5               005 - Plaza Italia           -34.580550   \n",
       "97                  152            152 - JULIETA LANTERI           -34.618164   \n",
       "333                 515  294 - PLAZOLETA RÍO DE LA PLATA           -34.574246   \n",
       "\n",
       "     long_estacion_origen  cantidad_viajes  \n",
       "334            -58.423347             4603  \n",
       "10             -58.426387             3769  \n",
       "3              -58.420954             3736  \n",
       "97             -58.359631             3639  \n",
       "333            -58.414655             3320  "
      ]
     },
     "execution_count": 13,
     "metadata": {},
     "output_type": "execute_result"
    }
   ],
   "source": [
    "# Agrupar por estación de inicio, latitud y longitud\n",
    "top5_estaciones = (\n",
    "    recorridos_usuarios_3meses.groupby([\"id_estacion_origen\", \"nombre_estacion_origen\", \"lat_estacion_origen\", \"long_estacion_origen\"])\n",
    "    .size()\n",
    "    .reset_index(name=\"cantidad_viajes\")\n",
    "    .sort_values(\"cantidad_viajes\", ascending=False)\n",
    "    .head(5)\n",
    ")\n",
    "\n",
    "# Mostrar el resultado\n",
    "top5_estaciones\n"
   ]
  }
 ],
 "metadata": {
  "kernelspec": {
   "display_name": "Python 3",
   "language": "python",
   "name": "python3"
  },
  "language_info": {
   "codemirror_mode": {
    "name": "ipython",
    "version": 3
   },
   "file_extension": ".py",
   "mimetype": "text/x-python",
   "name": "python",
   "nbconvert_exporter": "python",
   "pygments_lexer": "ipython3",
   "version": "3.10.1"
  }
 },
 "nbformat": 4,
 "nbformat_minor": 5
}
