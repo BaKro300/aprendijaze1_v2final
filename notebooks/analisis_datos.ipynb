{
 "cells": [
  {
   "cell_type": "markdown",
   "id": "234c46ae",
   "metadata": {},
   "source": [
    "# Comienzo el análisis de los datos"
   ]
  },
  {
   "cell_type": "markdown",
   "id": "6c78d517",
   "metadata": {},
   "source": [
    "Cargo las librerías, como voy a graficar además de pandas voy a usar matplotlib y folium (para el mapa)"
   ]
  },
  {
   "cell_type": "code",
   "execution_count": 1,
   "id": "d24ab096",
   "metadata": {},
   "outputs": [
    {
     "name": "stderr",
     "output_type": "stream",
     "text": [
      "Matplotlib is building the font cache; this may take a moment.\n"
     ]
    }
   ],
   "source": [
    "import pandas as pd \n",
    "import matplotlib.pyplot as plt\n",
    "import folium"
   ]
  },
  {
   "cell_type": "markdown",
   "id": "dfe18681",
   "metadata": {},
   "source": [
    "Cargo la base de datos de recorridos y usuarios"
   ]
  },
  {
   "cell_type": "code",
   "execution_count": 2,
   "id": "3c6ea056",
   "metadata": {},
   "outputs": [],
   "source": [
    "recorridos_usuarios_3meses = pd.read_csv(\"../data/processed/recorridos_usuarios_3meses.csv\", sep=',', encoding='utf-8')\n"
   ]
  },
  {
   "cell_type": "code",
   "execution_count": 4,
   "id": "b2806949",
   "metadata": {},
   "outputs": [
    {
     "name": "stdout",
     "output_type": "stream",
     "text": [
      "<class 'pandas.core.frame.DataFrame'>\n",
      "RangeIndex: 285581 entries, 0 to 285580\n",
      "Data columns (total 22 columns):\n",
      " #   Column                      Non-Null Count   Dtype  \n",
      "---  ------                      --------------   -----  \n",
      " 0   id_usuario                  285581 non-null  int64  \n",
      " 1   genero_usuario              285581 non-null  object \n",
      " 2   edad_usuario                285581 non-null  int64  \n",
      " 3   fecha_alta                  285581 non-null  object \n",
      " 4   hora_alta                   285581 non-null  object \n",
      " 5   id_recorrido                285581 non-null  int64  \n",
      " 6   duracion_recorrido          285581 non-null  int64  \n",
      " 7   fecha_origen_recorrido      285581 non-null  object \n",
      " 8   id_estacion_origen          285581 non-null  int64  \n",
      " 9   nombre_estacion_origen      285581 non-null  object \n",
      " 10  direccion_estacion_origen   285581 non-null  object \n",
      " 11  long_estacion_origen        285581 non-null  float64\n",
      " 12  lat_estacion_origen         285581 non-null  float64\n",
      " 13  fecha_destino_recorrido     285581 non-null  object \n",
      " 14  id_estacion_destino         285581 non-null  int64  \n",
      " 15  nombre_estacion_destino     285581 non-null  object \n",
      " 16  direccion_estacion_destino  285581 non-null  object \n",
      " 17  long_estacion_destino       285581 non-null  float64\n",
      " 18  lat_estacion_destino        285581 non-null  float64\n",
      " 19  modelo_bicicleta            285581 non-null  object \n",
      " 20  genero                      285581 non-null  object \n",
      " 21  duracion_viaje_minutos      285581 non-null  float64\n",
      "dtypes: float64(5), int64(6), object(11)\n",
      "memory usage: 47.9+ MB\n"
     ]
    }
   ],
   "source": [
    "recorridos_usuarios_3meses.info()"
   ]
  }
 ],
 "metadata": {
  "kernelspec": {
   "display_name": "Python 3",
   "language": "python",
   "name": "python3"
  },
  "language_info": {
   "codemirror_mode": {
    "name": "ipython",
    "version": 3
   },
   "file_extension": ".py",
   "mimetype": "text/x-python",
   "name": "python",
   "nbconvert_exporter": "python",
   "pygments_lexer": "ipython3",
   "version": "3.10.1"
  }
 },
 "nbformat": 4,
 "nbformat_minor": 5
}
