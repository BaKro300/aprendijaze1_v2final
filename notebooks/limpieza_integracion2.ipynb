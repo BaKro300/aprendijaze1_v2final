{
 "cells": [
  {
   "cell_type": "markdown",
   "id": "76af5336",
   "metadata": {},
   "source": [
    "En esta segunda parte del archivo voy a hacer el join entre las bases de usuarios ecobici 2024 y la filtrada por los 3 meses, comienzo importando las librerías"
   ]
  },
  {
   "cell_type": "code",
   "execution_count": 1,
   "id": "573e9bdd",
   "metadata": {},
   "outputs": [],
   "source": [
    "import pandas as pd "
   ]
  },
  {
   "cell_type": "markdown",
   "id": "6f6df248",
   "metadata": {},
   "source": [
    "Cargo las bases"
   ]
  },
  {
   "cell_type": "code",
   "execution_count": 2,
   "id": "267e5f79",
   "metadata": {},
   "outputs": [],
   "source": [
    "usua = pd.read_csv(\"../data/raw/usuarios_ecobici_2024.csv\", sep=',', encoding='utf_8')\n",
    "\n",
    "recorridos_3meses = pd.read_csv(\"../data/interim/recorridos_3meses.csv\", sep=',', encoding='utf_8')"
   ]
  },
  {
   "cell_type": "markdown",
   "id": "31545f13",
   "metadata": {},
   "source": [
    "Realizo el join entre estas bases de datos y lo guardo en recorridos_usuarios_3meses"
   ]
  },
  {
   "cell_type": "code",
   "execution_count": 3,
   "id": "6f58e3fd",
   "metadata": {},
   "outputs": [],
   "source": [
    "recorridos_usuarios_3meses = usua.merge(recorridos_3meses, on='id_usuario', how='inner')"
   ]
  },
  {
   "cell_type": "code",
   "execution_count": 5,
   "id": "8954bf56",
   "metadata": {},
   "outputs": [
    {
     "name": "stdout",
     "output_type": "stream",
     "text": [
      "<class 'pandas.core.frame.DataFrame'>\n",
      "RangeIndex: 285581 entries, 0 to 285580\n",
      "Data columns (total 21 columns):\n",
      " #   Column                      Non-Null Count   Dtype  \n",
      "---  ------                      --------------   -----  \n",
      " 0   id_usuario                  285581 non-null  int64  \n",
      " 1   genero_usuario              285581 non-null  object \n",
      " 2   edad_usuario                285581 non-null  int64  \n",
      " 3   fecha_alta                  285581 non-null  object \n",
      " 4   hora_alta                   285581 non-null  object \n",
      " 5   id_recorrido                285581 non-null  int64  \n",
      " 6   duracion_recorrido          285581 non-null  int64  \n",
      " 7   fecha_origen_recorrido      285581 non-null  object \n",
      " 8   id_estacion_origen          285581 non-null  int64  \n",
      " 9   nombre_estacion_origen      285581 non-null  object \n",
      " 10  direccion_estacion_origen   285581 non-null  object \n",
      " 11  long_estacion_origen        285581 non-null  float64\n",
      " 12  lat_estacion_origen         285581 non-null  float64\n",
      " 13  fecha_destino_recorrido     285581 non-null  object \n",
      " 14  id_estacion_destino         285581 non-null  int64  \n",
      " 15  nombre_estacion_destino     285581 non-null  object \n",
      " 16  direccion_estacion_destino  285581 non-null  object \n",
      " 17  long_estacion_destino       285581 non-null  float64\n",
      " 18  lat_estacion_destino        285581 non-null  float64\n",
      " 19  modelo_bicicleta            285581 non-null  object \n",
      " 20  genero                      285581 non-null  object \n",
      "dtypes: float64(4), int64(6), object(11)\n",
      "memory usage: 45.8+ MB\n"
     ]
    }
   ],
   "source": [
    "recorridos_usuarios_3meses.info()"
   ]
  },
  {
   "cell_type": "markdown",
   "id": "cb7cd5b8",
   "metadata": {},
   "source": [
    "Para crear la nueva columna duración_viaje_minutos, que registre el tiempo de los recorridos, teniendo en cuenta las columnas fecha_destino_recorrido - fecha_origen_recorrido, debo convertir esas columnas a tipo datetime"
   ]
  },
  {
   "cell_type": "code",
   "execution_count": 6,
   "id": "5e37e55a",
   "metadata": {},
   "outputs": [],
   "source": [
    "recorridos_usuarios_3meses['fecha_destino_recorrido'] = pd.to_datetime(recorridos_usuarios_3meses['fecha_destino_recorrido'])\n",
    "recorridos_usuarios_3meses['fecha_origen_recorrido'] = pd.to_datetime(recorridos_usuarios_3meses['fecha_origen_recorrido'])"
   ]
  },
  {
   "cell_type": "markdown",
   "id": "670f66c7",
   "metadata": {},
   "source": [
    "ahora sí puedo crear la nueva columna, el resultado está en minutos"
   ]
  },
  {
   "cell_type": "code",
   "execution_count": 7,
   "id": "a1441749",
   "metadata": {},
   "outputs": [],
   "source": [
    "recorridos_usuarios_3meses['duracion_viaje_minutos'] = ((recorridos_usuarios_3meses['fecha_destino_recorrido'] \n",
    "                                                         - recorridos_usuarios_3meses['fecha_origen_recorrido'])\n",
    "                                                         .dt.total_seconds() / 60)\n",
    "                                         \n",
    "recorridos_usuarios_3meses['duracion_viaje_minutos'] = recorridos_usuarios_3meses['duracion_viaje_minutos'].round(2)"
   ]
  },
  {
   "cell_type": "markdown",
   "id": "7ea931ad",
   "metadata": {},
   "source": [
    "Observo que la base de datos original ya tiene una columna duracion_recorrido, expresada en segundos, voy a verificar si son iguales"
   ]
  },
  {
   "cell_type": "code",
   "execution_count": 8,
   "id": "a93b1720",
   "metadata": {},
   "outputs": [
    {
     "data": {
      "application/vnd.microsoft.datawrangler.viewer.v0+json": {
       "columns": [
        {
         "name": "index",
         "rawType": "int64",
         "type": "integer"
        },
        {
         "name": "duracion_viaje_minutos",
         "rawType": "float64",
         "type": "float"
        },
        {
         "name": "fecha_origen_recorrido",
         "rawType": "datetime64[ns]",
         "type": "datetime"
        },
        {
         "name": "fecha_destino_recorrido",
         "rawType": "datetime64[ns]",
         "type": "datetime"
        },
        {
         "name": "duracion_recorrido",
         "rawType": "int64",
         "type": "integer"
        }
       ],
       "ref": "4b153a23-8777-49fe-acdc-06f26f547e1e",
       "rows": [
        [
         "0",
         "24.22",
         "2024-07-01 09:42:09",
         "2024-07-01 10:06:22",
         "1453"
        ],
        [
         "1",
         "31.53",
         "2024-07-01 13:22:10",
         "2024-07-01 13:53:42",
         "1892"
        ],
        [
         "2",
         "21.43",
         "2024-07-01 13:40:27",
         "2024-07-01 14:01:53",
         "1286"
        ],
        [
         "3",
         "10.22",
         "2024-07-01 14:33:57",
         "2024-07-01 14:44:10",
         "613"
        ],
        [
         "4",
         "34.6",
         "2024-07-01 12:22:54",
         "2024-07-01 12:57:30",
         "2076"
        ],
        [
         "5",
         "22.63",
         "2024-07-01 16:11:53",
         "2024-07-01 16:34:31",
         "1358"
        ],
        [
         "6",
         "52.47",
         "2024-07-01 16:19:22",
         "2024-07-01 17:11:50",
         "3148"
        ],
        [
         "7",
         "27.38",
         "2024-07-01 17:05:54",
         "2024-07-01 17:33:17",
         "1643"
        ],
        [
         "8",
         "13.07",
         "2024-07-01 17:56:23",
         "2024-07-01 18:09:27",
         "784"
        ],
        [
         "9",
         "22.82",
         "2024-07-01 16:17:37",
         "2024-07-01 16:40:26",
         "1369"
        ],
        [
         "10",
         "77.45",
         "2024-07-01 14:51:52",
         "2024-07-01 16:09:19",
         "4647"
        ],
        [
         "11",
         "50.97",
         "2024-07-01 18:02:47",
         "2024-07-01 18:53:45",
         "3058"
        ],
        [
         "12",
         "19.57",
         "2024-07-01 18:32:44",
         "2024-07-01 18:52:18",
         "1174"
        ],
        [
         "13",
         "0.03",
         "2024-07-01 13:44:03",
         "2024-07-01 13:44:05",
         "2"
        ],
        [
         "14",
         "47.73",
         "2024-07-01 15:18:06",
         "2024-07-01 16:05:50",
         "2864"
        ],
        [
         "15",
         "19.03",
         "2024-07-01 16:59:44",
         "2024-07-01 17:18:46",
         "1142"
        ],
        [
         "16",
         "9.18",
         "2024-07-02 00:46:32",
         "2024-07-02 00:55:43",
         "551"
        ],
        [
         "17",
         "11.5",
         "2024-07-02 02:21:17",
         "2024-07-02 02:32:47",
         "690"
        ],
        [
         "18",
         "9.0",
         "2024-07-02 08:56:03",
         "2024-07-02 09:05:03",
         "540"
        ],
        [
         "19",
         "52.53",
         "2024-07-02 10:35:10",
         "2024-07-02 11:27:42",
         "3152"
        ],
        [
         "20",
         "47.1",
         "2024-07-02 10:36:34",
         "2024-07-02 11:23:40",
         "2826"
        ],
        [
         "21",
         "0.0",
         "2024-07-02 01:42:58",
         "2024-07-02 01:42:58",
         "0"
        ],
        [
         "22",
         "33.45",
         "2024-07-02 11:13:17",
         "2024-07-02 11:46:44",
         "2007"
        ],
        [
         "23",
         "47.7",
         "2024-07-02 10:35:46",
         "2024-07-02 11:23:28",
         "2862"
        ],
        [
         "24",
         "34.95",
         "2024-07-02 13:38:17",
         "2024-07-02 14:13:14",
         "2097"
        ],
        [
         "25",
         "7.7",
         "2024-07-01 12:25:51",
         "2024-07-01 12:33:33",
         "462"
        ],
        [
         "26",
         "44.92",
         "2024-07-02 12:32:34",
         "2024-07-02 13:17:29",
         "2695"
        ],
        [
         "27",
         "26.55",
         "2024-07-02 16:08:55",
         "2024-07-02 16:35:28",
         "1593"
        ],
        [
         "28",
         "12.95",
         "2024-07-02 16:17:34",
         "2024-07-02 16:30:31",
         "777"
        ],
        [
         "29",
         "0.35",
         "2024-07-02 16:17:33",
         "2024-07-02 16:17:54",
         "21"
        ],
        [
         "30",
         "18.7",
         "2024-07-02 16:20:57",
         "2024-07-02 16:39:39",
         "1122"
        ],
        [
         "31",
         "72.43",
         "2024-07-02 12:00:07",
         "2024-07-02 13:12:33",
         "4346"
        ],
        [
         "32",
         "66.73",
         "2024-07-02 13:42:37",
         "2024-07-02 14:49:21",
         "4004"
        ],
        [
         "33",
         "0.42",
         "2024-07-01 10:04:45",
         "2024-07-01 10:05:10",
         "25"
        ],
        [
         "34",
         "77.33",
         "2024-07-02 14:42:12",
         "2024-07-02 15:59:32",
         "4640"
        ],
        [
         "35",
         "16.73",
         "2024-07-02 16:53:01",
         "2024-07-02 17:09:45",
         "1004"
        ],
        [
         "36",
         "71.6",
         "2024-07-02 16:54:49",
         "2024-07-02 18:06:25",
         "4296"
        ],
        [
         "37",
         "0.35",
         "2024-07-02 16:54:05",
         "2024-07-02 16:54:26",
         "21"
        ],
        [
         "38",
         "30.62",
         "2024-07-02 17:13:51",
         "2024-07-02 17:44:28",
         "1837"
        ],
        [
         "39",
         "109.35",
         "2024-07-01 22:31:02",
         "2024-07-02 00:20:23",
         "6561"
        ],
        [
         "40",
         "11.3",
         "2024-07-02 18:39:23",
         "2024-07-02 18:50:41",
         "678"
        ],
        [
         "41",
         "29.38",
         "2024-07-02 18:37:37",
         "2024-07-02 19:07:00",
         "1763"
        ],
        [
         "42",
         "5.42",
         "2024-07-02 19:32:01",
         "2024-07-02 19:37:26",
         "325"
        ],
        [
         "43",
         "15.58",
         "2024-07-02 18:50:30",
         "2024-07-02 19:06:05",
         "935"
        ],
        [
         "44",
         "15.08",
         "2024-07-02 22:59:50",
         "2024-07-02 23:14:55",
         "905"
        ],
        [
         "45",
         "18.92",
         "2024-07-02 23:17:49",
         "2024-07-02 23:36:44",
         "1135"
        ],
        [
         "46",
         "27.83",
         "2024-07-02 23:53:23",
         "2024-07-03 00:21:13",
         "1670"
        ],
        [
         "47",
         "16.08",
         "2024-07-03 00:38:13",
         "2024-07-03 00:54:18",
         "965"
        ],
        [
         "48",
         "19.23",
         "2024-07-02 11:19:09",
         "2024-07-02 11:38:23",
         "1154"
        ],
        [
         "49",
         "14.67",
         "2024-07-03 01:41:36",
         "2024-07-03 01:56:16",
         "880"
        ]
       ],
       "shape": {
        "columns": 4,
        "rows": 285581
       }
      },
      "text/html": [
       "<div>\n",
       "<style scoped>\n",
       "    .dataframe tbody tr th:only-of-type {\n",
       "        vertical-align: middle;\n",
       "    }\n",
       "\n",
       "    .dataframe tbody tr th {\n",
       "        vertical-align: top;\n",
       "    }\n",
       "\n",
       "    .dataframe thead th {\n",
       "        text-align: right;\n",
       "    }\n",
       "</style>\n",
       "<table border=\"1\" class=\"dataframe\">\n",
       "  <thead>\n",
       "    <tr style=\"text-align: right;\">\n",
       "      <th></th>\n",
       "      <th>duracion_viaje_minutos</th>\n",
       "      <th>fecha_origen_recorrido</th>\n",
       "      <th>fecha_destino_recorrido</th>\n",
       "      <th>duracion_recorrido</th>\n",
       "    </tr>\n",
       "  </thead>\n",
       "  <tbody>\n",
       "    <tr>\n",
       "      <th>0</th>\n",
       "      <td>24.22</td>\n",
       "      <td>2024-07-01 09:42:09</td>\n",
       "      <td>2024-07-01 10:06:22</td>\n",
       "      <td>1453</td>\n",
       "    </tr>\n",
       "    <tr>\n",
       "      <th>1</th>\n",
       "      <td>31.53</td>\n",
       "      <td>2024-07-01 13:22:10</td>\n",
       "      <td>2024-07-01 13:53:42</td>\n",
       "      <td>1892</td>\n",
       "    </tr>\n",
       "    <tr>\n",
       "      <th>2</th>\n",
       "      <td>21.43</td>\n",
       "      <td>2024-07-01 13:40:27</td>\n",
       "      <td>2024-07-01 14:01:53</td>\n",
       "      <td>1286</td>\n",
       "    </tr>\n",
       "    <tr>\n",
       "      <th>3</th>\n",
       "      <td>10.22</td>\n",
       "      <td>2024-07-01 14:33:57</td>\n",
       "      <td>2024-07-01 14:44:10</td>\n",
       "      <td>613</td>\n",
       "    </tr>\n",
       "    <tr>\n",
       "      <th>4</th>\n",
       "      <td>34.60</td>\n",
       "      <td>2024-07-01 12:22:54</td>\n",
       "      <td>2024-07-01 12:57:30</td>\n",
       "      <td>2076</td>\n",
       "    </tr>\n",
       "    <tr>\n",
       "      <th>...</th>\n",
       "      <td>...</td>\n",
       "      <td>...</td>\n",
       "      <td>...</td>\n",
       "      <td>...</td>\n",
       "    </tr>\n",
       "    <tr>\n",
       "      <th>285576</th>\n",
       "      <td>5.15</td>\n",
       "      <td>2024-08-13 06:43:12</td>\n",
       "      <td>2024-08-13 06:48:21</td>\n",
       "      <td>309</td>\n",
       "    </tr>\n",
       "    <tr>\n",
       "      <th>285577</th>\n",
       "      <td>49.27</td>\n",
       "      <td>2024-08-12 19:03:20</td>\n",
       "      <td>2024-08-12 19:52:36</td>\n",
       "      <td>2956</td>\n",
       "    </tr>\n",
       "    <tr>\n",
       "      <th>285578</th>\n",
       "      <td>3.68</td>\n",
       "      <td>2024-08-12 07:57:09</td>\n",
       "      <td>2024-08-12 08:00:50</td>\n",
       "      <td>221</td>\n",
       "    </tr>\n",
       "    <tr>\n",
       "      <th>285579</th>\n",
       "      <td>27.27</td>\n",
       "      <td>2024-09-28 12:09:33</td>\n",
       "      <td>2024-09-28 12:36:49</td>\n",
       "      <td>1636</td>\n",
       "    </tr>\n",
       "    <tr>\n",
       "      <th>285580</th>\n",
       "      <td>47.55</td>\n",
       "      <td>2024-09-28 10:29:50</td>\n",
       "      <td>2024-09-28 11:17:23</td>\n",
       "      <td>2853</td>\n",
       "    </tr>\n",
       "  </tbody>\n",
       "</table>\n",
       "<p>285581 rows × 4 columns</p>\n",
       "</div>"
      ],
      "text/plain": [
       "        duracion_viaje_minutos fecha_origen_recorrido fecha_destino_recorrido  \\\n",
       "0                        24.22    2024-07-01 09:42:09     2024-07-01 10:06:22   \n",
       "1                        31.53    2024-07-01 13:22:10     2024-07-01 13:53:42   \n",
       "2                        21.43    2024-07-01 13:40:27     2024-07-01 14:01:53   \n",
       "3                        10.22    2024-07-01 14:33:57     2024-07-01 14:44:10   \n",
       "4                        34.60    2024-07-01 12:22:54     2024-07-01 12:57:30   \n",
       "...                        ...                    ...                     ...   \n",
       "285576                    5.15    2024-08-13 06:43:12     2024-08-13 06:48:21   \n",
       "285577                   49.27    2024-08-12 19:03:20     2024-08-12 19:52:36   \n",
       "285578                    3.68    2024-08-12 07:57:09     2024-08-12 08:00:50   \n",
       "285579                   27.27    2024-09-28 12:09:33     2024-09-28 12:36:49   \n",
       "285580                   47.55    2024-09-28 10:29:50     2024-09-28 11:17:23   \n",
       "\n",
       "        duracion_recorrido  \n",
       "0                     1453  \n",
       "1                     1892  \n",
       "2                     1286  \n",
       "3                      613  \n",
       "4                     2076  \n",
       "...                    ...  \n",
       "285576                 309  \n",
       "285577                2956  \n",
       "285578                 221  \n",
       "285579                1636  \n",
       "285580                2853  \n",
       "\n",
       "[285581 rows x 4 columns]"
      ]
     },
     "execution_count": 8,
     "metadata": {},
     "output_type": "execute_result"
    }
   ],
   "source": [
    "recorridos_usuarios_3meses[['duracion_viaje_minutos', 'fecha_origen_recorrido', 'fecha_destino_recorrido', 'duracion_recorrido']]"
   ]
  },
  {
   "cell_type": "markdown",
   "id": "bbc35fba",
   "metadata": {},
   "source": [
    "Creo aux_duracion_recorrido, para expresar esa columna en minutos"
   ]
  },
  {
   "cell_type": "code",
   "execution_count": 9,
   "id": "4389c09f",
   "metadata": {},
   "outputs": [
    {
     "data": {
      "application/vnd.microsoft.datawrangler.viewer.v0+json": {
       "columns": [
        {
         "name": "index",
         "rawType": "int64",
         "type": "integer"
        },
        {
         "name": "duracion_recorrido",
         "rawType": "float64",
         "type": "float"
        }
       ],
       "ref": "e8a7d3f8-b1b1-4c6f-860d-be40f05e8cef",
       "rows": [
        [
         "0",
         "24.22"
        ],
        [
         "1",
         "31.53"
        ],
        [
         "2",
         "21.43"
        ],
        [
         "3",
         "10.22"
        ],
        [
         "4",
         "34.6"
        ],
        [
         "5",
         "22.63"
        ],
        [
         "6",
         "52.47"
        ],
        [
         "7",
         "27.38"
        ],
        [
         "8",
         "13.07"
        ],
        [
         "9",
         "22.82"
        ],
        [
         "10",
         "77.45"
        ],
        [
         "11",
         "50.97"
        ],
        [
         "12",
         "19.57"
        ],
        [
         "13",
         "0.03"
        ],
        [
         "14",
         "47.73"
        ],
        [
         "15",
         "19.03"
        ],
        [
         "16",
         "9.18"
        ],
        [
         "17",
         "11.5"
        ],
        [
         "18",
         "9.0"
        ],
        [
         "19",
         "52.53"
        ],
        [
         "20",
         "47.1"
        ],
        [
         "21",
         "0.0"
        ],
        [
         "22",
         "33.45"
        ],
        [
         "23",
         "47.7"
        ],
        [
         "24",
         "34.95"
        ],
        [
         "25",
         "7.7"
        ],
        [
         "26",
         "44.92"
        ],
        [
         "27",
         "26.55"
        ],
        [
         "28",
         "12.95"
        ],
        [
         "29",
         "0.35"
        ],
        [
         "30",
         "18.7"
        ],
        [
         "31",
         "72.43"
        ],
        [
         "32",
         "66.73"
        ],
        [
         "33",
         "0.42"
        ],
        [
         "34",
         "77.33"
        ],
        [
         "35",
         "16.73"
        ],
        [
         "36",
         "71.6"
        ],
        [
         "37",
         "0.35"
        ],
        [
         "38",
         "30.62"
        ],
        [
         "39",
         "109.35"
        ],
        [
         "40",
         "11.3"
        ],
        [
         "41",
         "29.38"
        ],
        [
         "42",
         "5.42"
        ],
        [
         "43",
         "15.58"
        ],
        [
         "44",
         "15.08"
        ],
        [
         "45",
         "18.92"
        ],
        [
         "46",
         "27.83"
        ],
        [
         "47",
         "16.08"
        ],
        [
         "48",
         "19.23"
        ],
        [
         "49",
         "14.67"
        ]
       ],
       "shape": {
        "columns": 1,
        "rows": 285581
       }
      },
      "text/plain": [
       "0         24.22\n",
       "1         31.53\n",
       "2         21.43\n",
       "3         10.22\n",
       "4         34.60\n",
       "          ...  \n",
       "285576     5.15\n",
       "285577    49.27\n",
       "285578     3.68\n",
       "285579    27.27\n",
       "285580    47.55\n",
       "Name: duracion_recorrido, Length: 285581, dtype: float64"
      ]
     },
     "execution_count": 9,
     "metadata": {},
     "output_type": "execute_result"
    }
   ],
   "source": [
    "aux_duracion_recorrido = (recorridos_usuarios_3meses['duracion_recorrido'] / 60).round(2)\n",
    "aux_duracion_recorrido"
   ]
  },
  {
   "cell_type": "code",
   "execution_count": 10,
   "id": "a3833477",
   "metadata": {},
   "outputs": [
    {
     "name": "stdout",
     "output_type": "stream",
     "text": [
      "True    285581\n",
      "Name: count, dtype: int64\n"
     ]
    }
   ],
   "source": [
    "print((recorridos_usuarios_3meses['duracion_viaje_minutos'] == aux_duracion_recorrido).value_counts())"
   ]
  },
  {
   "cell_type": "markdown",
   "id": "b8546dd6",
   "metadata": {},
   "source": [
    "Observo que el total de las filas son true, por lo tanto los datos concuerdan"
   ]
  },
  {
   "cell_type": "markdown",
   "id": "803f1613",
   "metadata": {},
   "source": [
    "Finalmente guardo la base de datos con esa columna creada en recorridos_usuarios_3meses"
   ]
  },
  {
   "cell_type": "code",
   "execution_count": null,
   "id": "d00d0c18",
   "metadata": {},
   "outputs": [],
   "source": [
    "ruta_guardado = \"data/processed/recorridos_usuarios_3meses.csv\"\n",
    "recorridos_usuarios_3meses.to_csv(ruta_guardado, index=False)"
   ]
  }
 ],
 "metadata": {
  "kernelspec": {
   "display_name": "Python 3",
   "language": "python",
   "name": "python3"
  },
  "language_info": {
   "codemirror_mode": {
    "name": "ipython",
    "version": 3
   },
   "file_extension": ".py",
   "mimetype": "text/x-python",
   "name": "python",
   "nbconvert_exporter": "python",
   "pygments_lexer": "ipython3",
   "version": "3.10.1"
  }
 },
 "nbformat": 4,
 "nbformat_minor": 5
}
